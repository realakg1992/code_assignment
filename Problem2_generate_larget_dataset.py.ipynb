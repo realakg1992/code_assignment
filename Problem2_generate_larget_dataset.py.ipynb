{
 "cells": [
  {
   "cell_type": "code",
   "execution_count": 2,
   "id": "d310299b",
   "metadata": {},
   "outputs": [],
   "source": [
    "import hashlib\n",
    "import pandas as pd\n",
    "\n",
    "# Function to anonymize data\n",
    "def anonymize_string(value):\n",
    "    return hashlib.sha256(value.encode()).hexdigest()\n",
    "\n",
    "# Process CSV in chunks to avoid memory overload\n",
    "chunk_size = 10**6  # Process 100,000 rows at a time\n",
    "chunks = pd.read_csv('large_dataset.csv', chunksize=chunk_size)\n",
    "\n",
    "for chunk in chunks:\n",
    "    # Apply anonymization to the required columns\n",
    "    chunk['first_name'] = chunk['first_name'].apply(anonymize_string)\n",
    "    chunk['last_name'] = chunk['last_name'].apply(anonymize_string)\n",
    "    chunk['address'] = chunk['address'].apply(anonymize_string)\n",
    "    \n",
    "    # Save the anonymized chunk to a new CSV file\n",
    "    chunk.to_csv('anonymized_large_dataset.csv', mode='a', index=False, header=False)\n"
   ]
  },
  {
   "cell_type": "code",
   "execution_count": null,
   "id": "2ca26a80",
   "metadata": {},
   "outputs": [],
   "source": []
  }
 ],
 "metadata": {
  "kernelspec": {
   "display_name": "Python 3 (ipykernel)",
   "language": "python",
   "name": "python3"
  },
  "language_info": {
   "codemirror_mode": {
    "name": "ipython",
    "version": 3
   },
   "file_extension": ".py",
   "mimetype": "text/x-python",
   "name": "python",
   "nbconvert_exporter": "python",
   "pygments_lexer": "ipython3",
   "version": "3.10.9"
  }
 },
 "nbformat": 4,
 "nbformat_minor": 5
}
