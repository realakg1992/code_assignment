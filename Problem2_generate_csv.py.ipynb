{
 "cells": [
  {
   "cell_type": "code",
   "execution_count": 5,
   "id": "fb3dd094",
   "metadata": {},
   "outputs": [],
   "source": [
    "import pandas as pd\n",
    "from faker import Faker\n",
    "\n",
    "# Instantiate Faker for random data generation\n",
    "fake = Faker()\n",
    "\n",
    "# Number of rows to generate\n",
    "rows = 10**3  # We can Adjust this to generate large files\n",
    "\n",
    "# Generate data\n",
    "data = {\n",
    "    'first_name': [fake.first_name() for _ in range(rows)],\n",
    "    'last_name': [fake.last_name() for _ in range(rows)],\n",
    "    'address': [fake.address().replace('\\n', ', ') for _ in range(rows)],\n",
    "    'date_of_birth': [fake.date_of_birth(minimum_age=18, maximum_age=90) for _ in range(rows)]\n",
    "}\n",
    "\n",
    "# Convert to DataFrame and save as CSV\n",
    "df = pd.DataFrame(data)\n",
    "df.to_csv('large_dataset.csv', index=False)\n"
   ]
  },
  {
   "cell_type": "code",
   "execution_count": null,
   "id": "0d17ae66",
   "metadata": {},
   "outputs": [],
   "source": []
  },
  {
   "cell_type": "code",
   "execution_count": null,
   "id": "3147e704",
   "metadata": {},
   "outputs": [],
   "source": []
  }
 ],
 "metadata": {
  "kernelspec": {
   "display_name": "Python 3 (ipykernel)",
   "language": "python",
   "name": "python3"
  },
  "language_info": {
   "codemirror_mode": {
    "name": "ipython",
    "version": 3
   },
   "file_extension": ".py",
   "mimetype": "text/x-python",
   "name": "python",
   "nbconvert_exporter": "python",
   "pygments_lexer": "ipython3",
   "version": "3.10.9"
  }
 },
 "nbformat": 4,
 "nbformat_minor": 5
}
