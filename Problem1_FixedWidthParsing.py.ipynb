{
 "cells": [
  {
   "cell_type": "code",
   "execution_count": 2,
   "id": "65131053",
   "metadata": {},
   "outputs": [
    {
     "name": "stdout",
     "output_type": "stream",
     "text": [
      "Extracting field Field1: 'John      ' with length 10\n",
      "Extracting field Field2: 'Smith          ' with length 15\n",
      "Extracting field Field3: '12345678' with length 8\n",
      "Extracting field Field1: 'John      ' with length 10\n",
      "Extracting field Field2: 'Ray          22' with length 15\n",
      "Extracting field Field3: '345678  ' with length 8\n",
      "Extracting field Field1: 'ABC      D' with length 10\n",
      "Extracting field Field2: 'oe            8' with length 15\n",
      "Extracting field Field3: '7654321 ' with length 8\n",
      "Extracting field Field1: 'Jay      S' with length 10\n",
      "Extracting field Field2: 'ingh          1' with length 15\n",
      "Extracting field Field3: '3345678 ' with length 8\n",
      "Extracting field Field1: 'Rahul     ' with length 10\n",
      "Extracting field Field2: ' Kumar         ' with length 15\n",
      "Extracting field Field3: '   87554' with length 8\n",
      "Extracting field Field1: 'John      ' with length 10\n",
      "Extracting field Field2: 'Smith          ' with length 15\n",
      "Extracting field Field3: '82345678' with length 8\n",
      "Extracting field Field1: 'Jane      ' with length 10\n",
      "Extracting field Field2: 'Doe            ' with length 15\n",
      "Extracting field Field3: '97654321' with length 8\n"
     ]
    }
   ],
   "source": [
    "import csv\n",
    "\n",
    "# Function to parse the spec file and return the column names and offsets\n",
    "def parse_spec_file(spec_file):\n",
    "    fields = []\n",
    "    with open(spec_file, 'r', encoding='utf-8') as f:\n",
    "        for line in f:\n",
    "            parts = line.strip().split()\n",
    "            field_name = parts[0]\n",
    "            field_length = int(parts[1])\n",
    "            fields.append((field_name, field_length))\n",
    "    return fields\n",
    "\n",
    "# Function to parse the fixed-width file using the offsets\n",
    "def parse_fixed_width_file(input_file, fields):\n",
    "    rows = []\n",
    "    \n",
    "    with open(input_file, 'r', encoding='utf-8') as f:\n",
    "        for line in f:\n",
    "            line = line.rstrip('\\n')  # Strip the newline character at the end\n",
    "            total_length = sum(length for _, length in fields)\n",
    "            \n",
    "            if len(line) < total_length:\n",
    "                line = line.ljust(total_length)  # Pad the line with spaces\n",
    "            \n",
    "            start = 0\n",
    "            row = []\n",
    "            for field_name, length in fields:\n",
    "                field_value = line[start:start + length]\n",
    "                print(f\"Extracting field {field_name}: '{field_value}' with length {length}\")  \n",
    "                row.append(field_value.strip()) \n",
    "                start += length\n",
    "            rows.append(row)\n",
    "    \n",
    "    return rows\n",
    "\n",
    "# Function to write the parsed data into a CSV file\n",
    "def write_csv(output_file, fields, data):\n",
    "    with open(output_file, 'w', newline='', encoding='utf-8') as f:\n",
    "        writer = csv.writer(f)\n",
    "        # Write headers (field names)\n",
    "        headers = [field_name for field_name, _ in fields]\n",
    "        writer.writerow(headers)\n",
    "        \n",
    "        # Write the data \n",
    "        writer.writerows(data)\n",
    "\n",
    "# Main function to execute the pipeline\n",
    "def main():\n",
    "    spec_file = 'spec.txt'  # Path to the spec file\n",
    "    input_file = 'input.fwf'  # Path to the fixed-width input file\n",
    "    output_file = 'output.csv'  # Path to the CSV output file\n",
    "    \n",
    "    fields = parse_spec_file(spec_file)\n",
    "    data = parse_fixed_width_file(input_file, fields)\n",
    "    write_csv(output_file, fields, data)\n",
    "\n",
    "if __name__ == '__main__':\n",
    "    main()\n"
   ]
  },
  {
   "cell_type": "code",
   "execution_count": null,
   "id": "2b6235c0",
   "metadata": {},
   "outputs": [],
   "source": []
  }
 ],
 "metadata": {
  "kernelspec": {
   "display_name": "Python 3 (ipykernel)",
   "language": "python",
   "name": "python3"
  },
  "language_info": {
   "codemirror_mode": {
    "name": "ipython",
    "version": 3
   },
   "file_extension": ".py",
   "mimetype": "text/x-python",
   "name": "python",
   "nbconvert_exporter": "python",
   "pygments_lexer": "ipython3",
   "version": "3.10.9"
  }
 },
 "nbformat": 4,
 "nbformat_minor": 5
}
